{
  "nbformat": 4,
  "nbformat_minor": 0,
  "metadata": {
    "colab": {
      "provenance": [],
      "include_colab_link": true
    },
    "kernelspec": {
      "name": "python3",
      "display_name": "Python 3"
    },
    "language_info": {
      "name": "python"
    }
  },
  "cells": [
    {
      "cell_type": "markdown",
      "metadata": {
        "id": "view-in-github",
        "colab_type": "text"
      },
      "source": [
        "<a href=\"https://colab.research.google.com/github/w1yii12/p1/blob/main/Untitled3.ipynb\" target=\"_parent\"><img src=\"https://colab.research.google.com/assets/colab-badge.svg\" alt=\"Open In Colab\"/></a>"
      ]
    },
    {
      "cell_type": "code",
      "execution_count": null,
      "metadata": {
        "id": "AjHjKY4sMNCz"
      },
      "outputs": [],
      "source": [
        "import pandas as pd\n",
        "import numpy as np\n",
        "import matplotlib.pyplot as plt\n",
        "import seaborn as sns\n",
        "from sklearn.preprocessing import MinMaxScaler, LabelEncoder\n",
        "from sklearn.model_selection import train_test_split\n",
        "from sklearn.svm import SVC\n",
        "from sklearn.ensemble import RandomForestClassifier\n",
        "from sklearn.linear_model import LogisticRegression\n",
        "from sklearn.neighbors import KNeighborsClassifier\n",
        "from sklearn.naive_bayes import GaussianNB\n",
        "from sklearn.tree import DecisionTreeClassifier\n",
        "from sklearn.metrics import accuracy_score, confusion_matrix, classification_report\n",
        "from scipy.stats import zscore\n",
        "from collections import Counter\n",
        "from imblearn.over_sampling import SMOTE"
      ]
    },
    {
      "cell_type": "code",
      "source": [
        "from google.colab import drive\n",
        "drive.mount('content')"
      ],
      "metadata": {
        "id": "aKZoJF_iLZpA",
        "colab": {
          "base_uri": "https://localhost:8080/"
        },
        "outputId": "397c6565-9f49-46b4-a4cf-a3d90da2966e"
      },
      "execution_count": 140,
      "outputs": [
        {
          "output_type": "stream",
          "name": "stdout",
          "text": [
            "Mounted at content\n"
          ]
        }
      ]
    },
    {
      "cell_type": "code",
      "source": [
        "df = pd.read_csv('/content/sample_data/sleep_health_lifestyle_dataset-1 (1).csv')"
      ],
      "metadata": {
        "id": "8HMmubs4NFGk"
      },
      "execution_count": 145,
      "outputs": []
    },
    {
      "cell_type": "code",
      "source": [
        "print(\"Initial Data:\")\n",
        "print(df.head(30))\n",
        "print(\"\\nDataset Description:\")\n",
        "print(df.describe())\n",
        "print(\"\\nDataset Info:\")\n",
        "df.info()\n",
        "print(\"\\nShape of Dataset:\", df.shape)\n",
        "print(\"\\nMissing Values:\")\n",
        "print(df.isnull().sum())\n"
      ],
      "metadata": {
        "colab": {
          "base_uri": "https://localhost:8080/"
        },
        "id": "cwCv9hSbNa20",
        "outputId": "24ca8ff5-c46f-4a39-9582-c7f14270fe88"
      },
      "execution_count": 146,
      "outputs": [
        {
          "output_type": "stream",
          "name": "stdout",
          "text": [
            "Initial Data:\n",
            "    Person ID  Gender  Age     Occupation  Sleep Duration (hours)  \\\n",
            "0           1    Male   29   Manual Labor                     7.4   \n",
            "1           2  Female   43        Retired                     4.2   \n",
            "2           3    Male   44        Retired                     6.1   \n",
            "3           4    Male   29  Office Worker                     8.3   \n",
            "4           5    Male   67        Retired                     9.1   \n",
            "5           6  Female   47        Student                     6.1   \n",
            "6           7    Male   22  Office Worker                     5.1   \n",
            "7           8    Male   49  Office Worker                    10.7   \n",
            "8           9    Male   25   Manual Labor                    11.9   \n",
            "9          10  Female   51        Retired                     8.2   \n",
            "10         11    Male   57   Manual Labor                     5.4   \n",
            "11         12    Male   27        Student                     6.2   \n",
            "12         13    Male   54  Office Worker                     4.1   \n",
            "13         14    Male   46  Office Worker                    11.3   \n",
            "14         15  Female   52  Office Worker                     4.9   \n",
            "15         16    Male   68        Student                     8.6   \n",
            "16         17  Female   36        Student                     6.2   \n",
            "17         18  Female   28   Manual Labor                     8.4   \n",
            "18         19  Female   26   Manual Labor                     9.2   \n",
            "19         20    Male   27   Manual Labor                    10.6   \n",
            "20         21  Female   38        Retired                     5.7   \n",
            "21         22    Male   45  Office Worker                     4.1   \n",
            "22         23  Female   44  Office Worker                     5.1   \n",
            "23         24  Female   52   Manual Labor                    11.2   \n",
            "24         25  Female   40  Office Worker                    11.0   \n",
            "25         26  Female   61   Manual Labor                     8.8   \n",
            "26         27  Female   36        Retired                     8.8   \n",
            "27         28  Female   80        Retired                     9.3   \n",
            "28         29  Female   49        Student                     5.4   \n",
            "29         30  Female   27        Retired                    11.3   \n",
            "\n",
            "    Quality of Sleep (scale: 1-10)  Physical Activity Level (minutes/day)  \\\n",
            "0                              7.0                                     41   \n",
            "1                              4.9                                     41   \n",
            "2                              6.0                                    107   \n",
            "3                             10.0                                     20   \n",
            "4                              9.5                                     19   \n",
            "5                              6.9                                     24   \n",
            "6                              6.1                                     26   \n",
            "7                              6.2                                     49   \n",
            "8                              7.2                                     27   \n",
            "9                              4.0                                     64   \n",
            "10                             5.5                                     82   \n",
            "11                             2.7                                     34   \n",
            "12                             6.8                                    113   \n",
            "13                             7.3                                     68   \n",
            "14                             5.0                                     87   \n",
            "15                             9.1                                     98   \n",
            "16                             3.5                                     31   \n",
            "17                             3.1                                     39   \n",
            "18                             6.4                                     93   \n",
            "19                             8.1                                     94   \n",
            "20                             9.4                                     53   \n",
            "21                             5.1                                     41   \n",
            "22                             8.2                                     60   \n",
            "23                             5.9                                     55   \n",
            "24                             5.7                                     30   \n",
            "25                             7.8                                    108   \n",
            "26                             7.3                                     41   \n",
            "27                             2.8                                    103   \n",
            "28                             9.0                                     48   \n",
            "29                             8.8                                     21   \n",
            "\n",
            "    Stress Level (scale: 1-10) BMI Category  \\\n",
            "0                            7        Obese   \n",
            "1                            5        Obese   \n",
            "2                            4  Underweight   \n",
            "3                           10        Obese   \n",
            "4                            4   Overweight   \n",
            "5                            4       Normal   \n",
            "6                            6        Obese   \n",
            "7                            8        Obese   \n",
            "8                            8  Underweight   \n",
            "9                            5   Overweight   \n",
            "10                           6        Obese   \n",
            "11                           4  Underweight   \n",
            "12                           9        Obese   \n",
            "13                           8  Underweight   \n",
            "14                          10  Underweight   \n",
            "15                          10   Overweight   \n",
            "16                           1        Obese   \n",
            "17                           2   Overweight   \n",
            "18                           9  Underweight   \n",
            "19                           8       Normal   \n",
            "20                           3        Obese   \n",
            "21                           8       Normal   \n",
            "22                           1        Obese   \n",
            "23                          10   Overweight   \n",
            "24                           4   Overweight   \n",
            "25                           3   Overweight   \n",
            "26                           6   Overweight   \n",
            "27                           7   Overweight   \n",
            "28                           4       Normal   \n",
            "29                           7   Overweight   \n",
            "\n",
            "   Blood Pressure (systolic/diastolic)  Heart Rate (bpm)  Daily Steps  \\\n",
            "0                               124/70                91         8539   \n",
            "1                               131/86                81        18754   \n",
            "2                               122/70                81         2857   \n",
            "3                               124/72                55         6886   \n",
            "4                               133/78                97        14945   \n",
            "5                               123/60                87         9485   \n",
            "6                               121/70                66        15680   \n",
            "7                               134/87                59        18767   \n",
            "8                               112/63                99        16397   \n",
            "9                               125/84                76        12744   \n",
            "10                              138/92                99         6334   \n",
            "11                              113/66                84        14226   \n",
            "12                              137/90                70        15440   \n",
            "13                              123/73                74        17020   \n",
            "14                              126/81                77         6251   \n",
            "15                              134/79                96        14180   \n",
            "16                              128/78                64        18140   \n",
            "17                              114/65                53         2922   \n",
            "18                              113/65                78         9957   \n",
            "19                              113/63                58        17796   \n",
            "20                              129/75                76         3230   \n",
            "21                              122/77                75        12627   \n",
            "22                              132/86                68        12006   \n",
            "23                              126/78                77         6933   \n",
            "24                              120/77                66        16295   \n",
            "25                              130/85                92        18377   \n",
            "26                              118/71                90         2203   \n",
            "27                              140/86                91        18544   \n",
            "28                              124/73                99        17899   \n",
            "29                              113/63                69         5748   \n",
            "\n",
            "   Sleep Disorder  \n",
            "0             NaN  \n",
            "1             NaN  \n",
            "2             NaN  \n",
            "3             NaN  \n",
            "4        Insomnia  \n",
            "5             NaN  \n",
            "6             NaN  \n",
            "7             NaN  \n",
            "8     Sleep Apnea  \n",
            "9             NaN  \n",
            "10            NaN  \n",
            "11            NaN  \n",
            "12    Sleep Apnea  \n",
            "13            NaN  \n",
            "14            NaN  \n",
            "15            NaN  \n",
            "16            NaN  \n",
            "17            NaN  \n",
            "18    Sleep Apnea  \n",
            "19       Insomnia  \n",
            "20            NaN  \n",
            "21       Insomnia  \n",
            "22            NaN  \n",
            "23       Insomnia  \n",
            "24       Insomnia  \n",
            "25            NaN  \n",
            "26       Insomnia  \n",
            "27            NaN  \n",
            "28            NaN  \n",
            "29            NaN  \n",
            "\n",
            "Dataset Description:\n",
            "        Person ID         Age  Sleep Duration (hours)  \\\n",
            "count  400.000000  400.000000              400.000000   \n",
            "mean   200.500000   39.950000                8.041250   \n",
            "std    115.614301   14.038883                2.390787   \n",
            "min      1.000000   18.000000                4.100000   \n",
            "25%    100.750000   29.000000                5.900000   \n",
            "50%    200.500000   40.000000                8.200000   \n",
            "75%    300.250000   49.000000               10.125000   \n",
            "max    400.000000   90.000000               12.000000   \n",
            "\n",
            "       Quality of Sleep (scale: 1-10)  Physical Activity Level (minutes/day)  \\\n",
            "count                      400.000000                             400.000000   \n",
            "mean                         6.125750                              64.985000   \n",
            "std                          1.975733                              32.297874   \n",
            "min                          1.000000                              10.000000   \n",
            "25%                          4.700000                              35.000000   \n",
            "50%                          6.100000                              65.500000   \n",
            "75%                          7.425000                              94.000000   \n",
            "max                         10.000000                             120.000000   \n",
            "\n",
            "       Stress Level (scale: 1-10)  Heart Rate (bpm)   Daily Steps  \n",
            "count                   400.00000        400.000000    400.000000  \n",
            "mean                      5.47250         75.990000  11076.510000  \n",
            "std                       2.80873         15.099334   5364.789364  \n",
            "min                       1.00000         50.000000   2067.000000  \n",
            "25%                       3.00000         63.000000   6165.250000  \n",
            "50%                       5.00000         77.000000  11785.500000  \n",
            "75%                       8.00000         90.000000  15878.000000  \n",
            "max                      10.00000        100.000000  19958.000000  \n",
            "\n",
            "Dataset Info:\n",
            "<class 'pandas.core.frame.DataFrame'>\n",
            "RangeIndex: 400 entries, 0 to 399\n",
            "Data columns (total 13 columns):\n",
            " #   Column                                 Non-Null Count  Dtype  \n",
            "---  ------                                 --------------  -----  \n",
            " 0   Person ID                              400 non-null    int64  \n",
            " 1   Gender                                 400 non-null    object \n",
            " 2   Age                                    400 non-null    int64  \n",
            " 3   Occupation                             400 non-null    object \n",
            " 4   Sleep Duration (hours)                 400 non-null    float64\n",
            " 5   Quality of Sleep (scale: 1-10)         400 non-null    float64\n",
            " 6   Physical Activity Level (minutes/day)  400 non-null    int64  \n",
            " 7   Stress Level (scale: 1-10)             400 non-null    int64  \n",
            " 8   BMI Category                           400 non-null    object \n",
            " 9   Blood Pressure (systolic/diastolic)    400 non-null    object \n",
            " 10  Heart Rate (bpm)                       400 non-null    int64  \n",
            " 11  Daily Steps                            400 non-null    int64  \n",
            " 12  Sleep Disorder                         110 non-null    object \n",
            "dtypes: float64(2), int64(6), object(5)\n",
            "memory usage: 40.8+ KB\n",
            "\n",
            "Shape of Dataset: (400, 13)\n",
            "\n",
            "Missing Values:\n",
            "Person ID                                  0\n",
            "Gender                                     0\n",
            "Age                                        0\n",
            "Occupation                                 0\n",
            "Sleep Duration (hours)                     0\n",
            "Quality of Sleep (scale: 1-10)             0\n",
            "Physical Activity Level (minutes/day)      0\n",
            "Stress Level (scale: 1-10)                 0\n",
            "BMI Category                               0\n",
            "Blood Pressure (systolic/diastolic)        0\n",
            "Heart Rate (bpm)                           0\n",
            "Daily Steps                                0\n",
            "Sleep Disorder                           290\n",
            "dtype: int64\n"
          ]
        }
      ]
    },
    {
      "cell_type": "code",
      "source": [
        "df = df.drop_duplicates()"
      ],
      "metadata": {
        "id": "7FtEipPZNd9-"
      },
      "execution_count": 51,
      "outputs": []
    },
    {
      "cell_type": "code",
      "source": [
        "df[['Systolic BP', 'Diastolic BP']] = df['Blood Pressure (systolic/diastolic)'].str.split('/', expand=True).astype(int)\n",
        "df.drop(columns=['Blood Pressure (systolic/diastolic)', 'Person ID'], inplace=True)\n",
        "print(\"\\nData after splitting Blood Pressure column:\")\n",
        "print(df.head(30))"
      ],
      "metadata": {
        "colab": {
          "base_uri": "https://localhost:8080/"
        },
        "id": "fzJreNFQNgoC",
        "outputId": "ec458caa-e151-4d0e-d36a-98db921442d4"
      },
      "execution_count": 147,
      "outputs": [
        {
          "output_type": "stream",
          "name": "stdout",
          "text": [
            "\n",
            "Data after splitting Blood Pressure column:\n",
            "    Gender  Age     Occupation  Sleep Duration (hours)  \\\n",
            "0     Male   29   Manual Labor                     7.4   \n",
            "1   Female   43        Retired                     4.2   \n",
            "2     Male   44        Retired                     6.1   \n",
            "3     Male   29  Office Worker                     8.3   \n",
            "4     Male   67        Retired                     9.1   \n",
            "5   Female   47        Student                     6.1   \n",
            "6     Male   22  Office Worker                     5.1   \n",
            "7     Male   49  Office Worker                    10.7   \n",
            "8     Male   25   Manual Labor                    11.9   \n",
            "9   Female   51        Retired                     8.2   \n",
            "10    Male   57   Manual Labor                     5.4   \n",
            "11    Male   27        Student                     6.2   \n",
            "12    Male   54  Office Worker                     4.1   \n",
            "13    Male   46  Office Worker                    11.3   \n",
            "14  Female   52  Office Worker                     4.9   \n",
            "15    Male   68        Student                     8.6   \n",
            "16  Female   36        Student                     6.2   \n",
            "17  Female   28   Manual Labor                     8.4   \n",
            "18  Female   26   Manual Labor                     9.2   \n",
            "19    Male   27   Manual Labor                    10.6   \n",
            "20  Female   38        Retired                     5.7   \n",
            "21    Male   45  Office Worker                     4.1   \n",
            "22  Female   44  Office Worker                     5.1   \n",
            "23  Female   52   Manual Labor                    11.2   \n",
            "24  Female   40  Office Worker                    11.0   \n",
            "25  Female   61   Manual Labor                     8.8   \n",
            "26  Female   36        Retired                     8.8   \n",
            "27  Female   80        Retired                     9.3   \n",
            "28  Female   49        Student                     5.4   \n",
            "29  Female   27        Retired                    11.3   \n",
            "\n",
            "    Quality of Sleep (scale: 1-10)  Physical Activity Level (minutes/day)  \\\n",
            "0                              7.0                                     41   \n",
            "1                              4.9                                     41   \n",
            "2                              6.0                                    107   \n",
            "3                             10.0                                     20   \n",
            "4                              9.5                                     19   \n",
            "5                              6.9                                     24   \n",
            "6                              6.1                                     26   \n",
            "7                              6.2                                     49   \n",
            "8                              7.2                                     27   \n",
            "9                              4.0                                     64   \n",
            "10                             5.5                                     82   \n",
            "11                             2.7                                     34   \n",
            "12                             6.8                                    113   \n",
            "13                             7.3                                     68   \n",
            "14                             5.0                                     87   \n",
            "15                             9.1                                     98   \n",
            "16                             3.5                                     31   \n",
            "17                             3.1                                     39   \n",
            "18                             6.4                                     93   \n",
            "19                             8.1                                     94   \n",
            "20                             9.4                                     53   \n",
            "21                             5.1                                     41   \n",
            "22                             8.2                                     60   \n",
            "23                             5.9                                     55   \n",
            "24                             5.7                                     30   \n",
            "25                             7.8                                    108   \n",
            "26                             7.3                                     41   \n",
            "27                             2.8                                    103   \n",
            "28                             9.0                                     48   \n",
            "29                             8.8                                     21   \n",
            "\n",
            "    Stress Level (scale: 1-10) BMI Category  Heart Rate (bpm)  Daily Steps  \\\n",
            "0                            7        Obese                91         8539   \n",
            "1                            5        Obese                81        18754   \n",
            "2                            4  Underweight                81         2857   \n",
            "3                           10        Obese                55         6886   \n",
            "4                            4   Overweight                97        14945   \n",
            "5                            4       Normal                87         9485   \n",
            "6                            6        Obese                66        15680   \n",
            "7                            8        Obese                59        18767   \n",
            "8                            8  Underweight                99        16397   \n",
            "9                            5   Overweight                76        12744   \n",
            "10                           6        Obese                99         6334   \n",
            "11                           4  Underweight                84        14226   \n",
            "12                           9        Obese                70        15440   \n",
            "13                           8  Underweight                74        17020   \n",
            "14                          10  Underweight                77         6251   \n",
            "15                          10   Overweight                96        14180   \n",
            "16                           1        Obese                64        18140   \n",
            "17                           2   Overweight                53         2922   \n",
            "18                           9  Underweight                78         9957   \n",
            "19                           8       Normal                58        17796   \n",
            "20                           3        Obese                76         3230   \n",
            "21                           8       Normal                75        12627   \n",
            "22                           1        Obese                68        12006   \n",
            "23                          10   Overweight                77         6933   \n",
            "24                           4   Overweight                66        16295   \n",
            "25                           3   Overweight                92        18377   \n",
            "26                           6   Overweight                90         2203   \n",
            "27                           7   Overweight                91        18544   \n",
            "28                           4       Normal                99        17899   \n",
            "29                           7   Overweight                69         5748   \n",
            "\n",
            "   Sleep Disorder  Systolic BP  Diastolic BP  \n",
            "0             NaN          124            70  \n",
            "1             NaN          131            86  \n",
            "2             NaN          122            70  \n",
            "3             NaN          124            72  \n",
            "4        Insomnia          133            78  \n",
            "5             NaN          123            60  \n",
            "6             NaN          121            70  \n",
            "7             NaN          134            87  \n",
            "8     Sleep Apnea          112            63  \n",
            "9             NaN          125            84  \n",
            "10            NaN          138            92  \n",
            "11            NaN          113            66  \n",
            "12    Sleep Apnea          137            90  \n",
            "13            NaN          123            73  \n",
            "14            NaN          126            81  \n",
            "15            NaN          134            79  \n",
            "16            NaN          128            78  \n",
            "17            NaN          114            65  \n",
            "18    Sleep Apnea          113            65  \n",
            "19       Insomnia          113            63  \n",
            "20            NaN          129            75  \n",
            "21       Insomnia          122            77  \n",
            "22            NaN          132            86  \n",
            "23       Insomnia          126            78  \n",
            "24       Insomnia          120            77  \n",
            "25            NaN          130            85  \n",
            "26       Insomnia          118            71  \n",
            "27            NaN          140            86  \n",
            "28            NaN          124            73  \n",
            "29            NaN          113            63  \n"
          ]
        }
      ]
    },
    {
      "cell_type": "code",
      "source": [
        "label_encoders = {}\n",
        "categorical_cols = ['Gender', 'Occupation', 'BMI Category', 'Sleep Disorder']\n",
        "for col in categorical_cols:\n",
        "    le = LabelEncoder()\n",
        "    df[col] = le.fit_transform(df[col])\n",
        "    label_encoders[col] = le\n",
        "print(\"\\nData after encoding categorical variables:\")\n",
        "print(df.head(30))"
      ],
      "metadata": {
        "colab": {
          "base_uri": "https://localhost:8080/"
        },
        "id": "KDiEmAw7NlMX",
        "outputId": "a39cf7ed-da35-4e01-b9a5-a08cac1e7bad"
      },
      "execution_count": 148,
      "outputs": [
        {
          "output_type": "stream",
          "name": "stdout",
          "text": [
            "\n",
            "Data after encoding categorical variables:\n",
            "    Gender  Age  Occupation  Sleep Duration (hours)  \\\n",
            "0        1   29           0                     7.4   \n",
            "1        0   43           2                     4.2   \n",
            "2        1   44           2                     6.1   \n",
            "3        1   29           1                     8.3   \n",
            "4        1   67           2                     9.1   \n",
            "5        0   47           3                     6.1   \n",
            "6        1   22           1                     5.1   \n",
            "7        1   49           1                    10.7   \n",
            "8        1   25           0                    11.9   \n",
            "9        0   51           2                     8.2   \n",
            "10       1   57           0                     5.4   \n",
            "11       1   27           3                     6.2   \n",
            "12       1   54           1                     4.1   \n",
            "13       1   46           1                    11.3   \n",
            "14       0   52           1                     4.9   \n",
            "15       1   68           3                     8.6   \n",
            "16       0   36           3                     6.2   \n",
            "17       0   28           0                     8.4   \n",
            "18       0   26           0                     9.2   \n",
            "19       1   27           0                    10.6   \n",
            "20       0   38           2                     5.7   \n",
            "21       1   45           1                     4.1   \n",
            "22       0   44           1                     5.1   \n",
            "23       0   52           0                    11.2   \n",
            "24       0   40           1                    11.0   \n",
            "25       0   61           0                     8.8   \n",
            "26       0   36           2                     8.8   \n",
            "27       0   80           2                     9.3   \n",
            "28       0   49           3                     5.4   \n",
            "29       0   27           2                    11.3   \n",
            "\n",
            "    Quality of Sleep (scale: 1-10)  Physical Activity Level (minutes/day)  \\\n",
            "0                              7.0                                     41   \n",
            "1                              4.9                                     41   \n",
            "2                              6.0                                    107   \n",
            "3                             10.0                                     20   \n",
            "4                              9.5                                     19   \n",
            "5                              6.9                                     24   \n",
            "6                              6.1                                     26   \n",
            "7                              6.2                                     49   \n",
            "8                              7.2                                     27   \n",
            "9                              4.0                                     64   \n",
            "10                             5.5                                     82   \n",
            "11                             2.7                                     34   \n",
            "12                             6.8                                    113   \n",
            "13                             7.3                                     68   \n",
            "14                             5.0                                     87   \n",
            "15                             9.1                                     98   \n",
            "16                             3.5                                     31   \n",
            "17                             3.1                                     39   \n",
            "18                             6.4                                     93   \n",
            "19                             8.1                                     94   \n",
            "20                             9.4                                     53   \n",
            "21                             5.1                                     41   \n",
            "22                             8.2                                     60   \n",
            "23                             5.9                                     55   \n",
            "24                             5.7                                     30   \n",
            "25                             7.8                                    108   \n",
            "26                             7.3                                     41   \n",
            "27                             2.8                                    103   \n",
            "28                             9.0                                     48   \n",
            "29                             8.8                                     21   \n",
            "\n",
            "    Stress Level (scale: 1-10)  BMI Category  Heart Rate (bpm)  Daily Steps  \\\n",
            "0                            7             1                91         8539   \n",
            "1                            5             1                81        18754   \n",
            "2                            4             3                81         2857   \n",
            "3                           10             1                55         6886   \n",
            "4                            4             2                97        14945   \n",
            "5                            4             0                87         9485   \n",
            "6                            6             1                66        15680   \n",
            "7                            8             1                59        18767   \n",
            "8                            8             3                99        16397   \n",
            "9                            5             2                76        12744   \n",
            "10                           6             1                99         6334   \n",
            "11                           4             3                84        14226   \n",
            "12                           9             1                70        15440   \n",
            "13                           8             3                74        17020   \n",
            "14                          10             3                77         6251   \n",
            "15                          10             2                96        14180   \n",
            "16                           1             1                64        18140   \n",
            "17                           2             2                53         2922   \n",
            "18                           9             3                78         9957   \n",
            "19                           8             0                58        17796   \n",
            "20                           3             1                76         3230   \n",
            "21                           8             0                75        12627   \n",
            "22                           1             1                68        12006   \n",
            "23                          10             2                77         6933   \n",
            "24                           4             2                66        16295   \n",
            "25                           3             2                92        18377   \n",
            "26                           6             2                90         2203   \n",
            "27                           7             2                91        18544   \n",
            "28                           4             0                99        17899   \n",
            "29                           7             2                69         5748   \n",
            "\n",
            "    Sleep Disorder  Systolic BP  Diastolic BP  \n",
            "0                2          124            70  \n",
            "1                2          131            86  \n",
            "2                2          122            70  \n",
            "3                2          124            72  \n",
            "4                0          133            78  \n",
            "5                2          123            60  \n",
            "6                2          121            70  \n",
            "7                2          134            87  \n",
            "8                1          112            63  \n",
            "9                2          125            84  \n",
            "10               2          138            92  \n",
            "11               2          113            66  \n",
            "12               1          137            90  \n",
            "13               2          123            73  \n",
            "14               2          126            81  \n",
            "15               2          134            79  \n",
            "16               2          128            78  \n",
            "17               2          114            65  \n",
            "18               1          113            65  \n",
            "19               0          113            63  \n",
            "20               2          129            75  \n",
            "21               0          122            77  \n",
            "22               2          132            86  \n",
            "23               0          126            78  \n",
            "24               0          120            77  \n",
            "25               2          130            85  \n",
            "26               0          118            71  \n",
            "27               2          140            86  \n",
            "28               2          124            73  \n",
            "29               2          113            63  \n"
          ]
        }
      ]
    },
    {
      "cell_type": "code",
      "source": [
        "scaler = MinMaxScaler()\n",
        "numerical_cols = ['Age', 'Sleep Duration (hours)', 'Quality of Sleep (scale: 1-10)',\n",
        "                  'Physical Activity Level (minutes/day)', 'Stress Level (scale: 1-10)',\n",
        "                  'Heart Rate (bpm)', 'Daily Steps', 'Systolic BP', 'Diastolic BP']\n",
        "df[numerical_cols] = scaler.fit_transform(df[numerical_cols])\n",
        "print(\"\\nData after normalization:\")\n",
        "print(df.head(30))"
      ],
      "metadata": {
        "colab": {
          "base_uri": "https://localhost:8080/"
        },
        "id": "Ipndw_vQNnVl",
        "outputId": "084aabb1-f3f5-4dd6-88a2-2d74c93d2e17"
      },
      "execution_count": 149,
      "outputs": [
        {
          "output_type": "stream",
          "name": "stdout",
          "text": [
            "\n",
            "Data after normalization:\n",
            "    Gender       Age  Occupation  Sleep Duration (hours)  \\\n",
            "0        1  0.152778           0                0.417722   \n",
            "1        0  0.347222           2                0.012658   \n",
            "2        1  0.361111           2                0.253165   \n",
            "3        1  0.152778           1                0.531646   \n",
            "4        1  0.680556           2                0.632911   \n",
            "5        0  0.402778           3                0.253165   \n",
            "6        1  0.055556           1                0.126582   \n",
            "7        1  0.430556           1                0.835443   \n",
            "8        1  0.097222           0                0.987342   \n",
            "9        0  0.458333           2                0.518987   \n",
            "10       1  0.541667           0                0.164557   \n",
            "11       1  0.125000           3                0.265823   \n",
            "12       1  0.500000           1                0.000000   \n",
            "13       1  0.388889           1                0.911392   \n",
            "14       0  0.472222           1                0.101266   \n",
            "15       1  0.694444           3                0.569620   \n",
            "16       0  0.250000           3                0.265823   \n",
            "17       0  0.138889           0                0.544304   \n",
            "18       0  0.111111           0                0.645570   \n",
            "19       1  0.125000           0                0.822785   \n",
            "20       0  0.277778           2                0.202532   \n",
            "21       1  0.375000           1                0.000000   \n",
            "22       0  0.361111           1                0.126582   \n",
            "23       0  0.472222           0                0.898734   \n",
            "24       0  0.305556           1                0.873418   \n",
            "25       0  0.597222           0                0.594937   \n",
            "26       0  0.250000           2                0.594937   \n",
            "27       0  0.861111           2                0.658228   \n",
            "28       0  0.430556           3                0.164557   \n",
            "29       0  0.125000           2                0.911392   \n",
            "\n",
            "    Quality of Sleep (scale: 1-10)  Physical Activity Level (minutes/day)  \\\n",
            "0                         0.666667                               0.281818   \n",
            "1                         0.433333                               0.281818   \n",
            "2                         0.555556                               0.881818   \n",
            "3                         1.000000                               0.090909   \n",
            "4                         0.944444                               0.081818   \n",
            "5                         0.655556                               0.127273   \n",
            "6                         0.566667                               0.145455   \n",
            "7                         0.577778                               0.354545   \n",
            "8                         0.688889                               0.154545   \n",
            "9                         0.333333                               0.490909   \n",
            "10                        0.500000                               0.654545   \n",
            "11                        0.188889                               0.218182   \n",
            "12                        0.644444                               0.936364   \n",
            "13                        0.700000                               0.527273   \n",
            "14                        0.444444                               0.700000   \n",
            "15                        0.900000                               0.800000   \n",
            "16                        0.277778                               0.190909   \n",
            "17                        0.233333                               0.263636   \n",
            "18                        0.600000                               0.754545   \n",
            "19                        0.788889                               0.763636   \n",
            "20                        0.933333                               0.390909   \n",
            "21                        0.455556                               0.281818   \n",
            "22                        0.800000                               0.454545   \n",
            "23                        0.544444                               0.409091   \n",
            "24                        0.522222                               0.181818   \n",
            "25                        0.755556                               0.890909   \n",
            "26                        0.700000                               0.281818   \n",
            "27                        0.200000                               0.845455   \n",
            "28                        0.888889                               0.345455   \n",
            "29                        0.866667                               0.100000   \n",
            "\n",
            "    Stress Level (scale: 1-10)  BMI Category  Heart Rate (bpm)  Daily Steps  \\\n",
            "0                     0.666667             1              0.82     0.361746   \n",
            "1                     0.444444             1              0.62     0.932704   \n",
            "2                     0.333333             3              0.62     0.044156   \n",
            "3                     1.000000             1              0.10     0.269353   \n",
            "4                     0.333333             2              0.94     0.719803   \n",
            "5                     0.333333             0              0.74     0.414622   \n",
            "6                     0.555556             1              0.32     0.760885   \n",
            "7                     0.777778             1              0.18     0.933430   \n",
            "8                     0.777778             3              0.98     0.800961   \n",
            "9                     0.444444             2              0.52     0.596781   \n",
            "10                    0.555556             1              0.98     0.238500   \n",
            "11                    0.333333             3              0.68     0.679615   \n",
            "12                    0.888889             1              0.40     0.747471   \n",
            "13                    0.777778             3              0.48     0.835783   \n",
            "14                    1.000000             3              0.54     0.233861   \n",
            "15                    1.000000             2              0.92     0.677044   \n",
            "16                    0.000000             1              0.28     0.898385   \n",
            "17                    0.111111             2              0.06     0.047789   \n",
            "18                    0.888889             3              0.56     0.441004   \n",
            "19                    0.777778             0              0.16     0.879157   \n",
            "20                    0.222222             1              0.52     0.065005   \n",
            "21                    0.777778             0              0.50     0.590241   \n",
            "22                    0.000000             1              0.36     0.555531   \n",
            "23                    1.000000             2              0.54     0.271980   \n",
            "24                    0.333333             2              0.32     0.795260   \n",
            "25                    0.222222             2              0.84     0.911632   \n",
            "26                    0.555556             2              0.80     0.007602   \n",
            "27                    0.666667             2              0.82     0.920966   \n",
            "28                    0.333333             0              0.98     0.884914   \n",
            "29                    0.666667             2              0.38     0.205746   \n",
            "\n",
            "    Sleep Disorder  Systolic BP  Diastolic BP  \n",
            "0                2     0.416667      0.277778  \n",
            "1                2     0.611111      0.722222  \n",
            "2                2     0.361111      0.277778  \n",
            "3                2     0.416667      0.333333  \n",
            "4                0     0.666667      0.500000  \n",
            "5                2     0.388889      0.000000  \n",
            "6                2     0.333333      0.277778  \n",
            "7                2     0.694444      0.750000  \n",
            "8                1     0.083333      0.083333  \n",
            "9                2     0.444444      0.666667  \n",
            "10               2     0.805556      0.888889  \n",
            "11               2     0.111111      0.166667  \n",
            "12               1     0.777778      0.833333  \n",
            "13               2     0.388889      0.361111  \n",
            "14               2     0.472222      0.583333  \n",
            "15               2     0.694444      0.527778  \n",
            "16               2     0.527778      0.500000  \n",
            "17               2     0.138889      0.138889  \n",
            "18               1     0.111111      0.138889  \n",
            "19               0     0.111111      0.083333  \n",
            "20               2     0.555556      0.416667  \n",
            "21               0     0.361111      0.472222  \n",
            "22               2     0.638889      0.722222  \n",
            "23               0     0.472222      0.500000  \n",
            "24               0     0.305556      0.472222  \n",
            "25               2     0.583333      0.694444  \n",
            "26               0     0.250000      0.305556  \n",
            "27               2     0.861111      0.722222  \n",
            "28               2     0.416667      0.361111  \n",
            "29               2     0.111111      0.083333  \n"
          ]
        }
      ]
    },
    {
      "cell_type": "code",
      "source": [
        "z_scores = np.abs(zscore(df[numerical_cols]))\n",
        "df = df[(z_scores < 3).all(axis=1)]\n",
        "print(\"\\nData after removing outliers:\")\n",
        "print(df.head(30))"
      ],
      "metadata": {
        "colab": {
          "base_uri": "https://localhost:8080/"
        },
        "id": "79URuBzfNuyQ",
        "outputId": "3d0f7c8b-10e6-4dc2-b17c-e9619a814f28"
      },
      "execution_count": 55,
      "outputs": [
        {
          "output_type": "stream",
          "name": "stdout",
          "text": [
            "\n",
            "Data after removing outliers:\n",
            "    Gender       Age  Occupation  Sleep Duration (hours)  \\\n",
            "0        1  0.152778           0                0.417722   \n",
            "1        0  0.347222           2                0.012658   \n",
            "2        1  0.361111           2                0.253165   \n",
            "3        1  0.152778           1                0.531646   \n",
            "4        1  0.680556           2                0.632911   \n",
            "5        0  0.402778           3                0.253165   \n",
            "6        1  0.055556           1                0.126582   \n",
            "7        1  0.430556           1                0.835443   \n",
            "8        1  0.097222           0                0.987342   \n",
            "9        0  0.458333           2                0.518987   \n",
            "10       1  0.541667           0                0.164557   \n",
            "11       1  0.125000           3                0.265823   \n",
            "12       1  0.500000           1                0.000000   \n",
            "13       1  0.388889           1                0.911392   \n",
            "14       0  0.472222           1                0.101266   \n",
            "15       1  0.694444           3                0.569620   \n",
            "16       0  0.250000           3                0.265823   \n",
            "17       0  0.138889           0                0.544304   \n",
            "18       0  0.111111           0                0.645570   \n",
            "19       1  0.125000           0                0.822785   \n",
            "20       0  0.277778           2                0.202532   \n",
            "21       1  0.375000           1                0.000000   \n",
            "22       0  0.361111           1                0.126582   \n",
            "23       0  0.472222           0                0.898734   \n",
            "24       0  0.305556           1                0.873418   \n",
            "25       0  0.597222           0                0.594937   \n",
            "26       0  0.250000           2                0.594937   \n",
            "27       0  0.861111           2                0.658228   \n",
            "28       0  0.430556           3                0.164557   \n",
            "29       0  0.125000           2                0.911392   \n",
            "\n",
            "    Quality of Sleep (scale: 1-10)  Physical Activity Level (minutes/day)  \\\n",
            "0                         0.666667                               0.281818   \n",
            "1                         0.433333                               0.281818   \n",
            "2                         0.555556                               0.881818   \n",
            "3                         1.000000                               0.090909   \n",
            "4                         0.944444                               0.081818   \n",
            "5                         0.655556                               0.127273   \n",
            "6                         0.566667                               0.145455   \n",
            "7                         0.577778                               0.354545   \n",
            "8                         0.688889                               0.154545   \n",
            "9                         0.333333                               0.490909   \n",
            "10                        0.500000                               0.654545   \n",
            "11                        0.188889                               0.218182   \n",
            "12                        0.644444                               0.936364   \n",
            "13                        0.700000                               0.527273   \n",
            "14                        0.444444                               0.700000   \n",
            "15                        0.900000                               0.800000   \n",
            "16                        0.277778                               0.190909   \n",
            "17                        0.233333                               0.263636   \n",
            "18                        0.600000                               0.754545   \n",
            "19                        0.788889                               0.763636   \n",
            "20                        0.933333                               0.390909   \n",
            "21                        0.455556                               0.281818   \n",
            "22                        0.800000                               0.454545   \n",
            "23                        0.544444                               0.409091   \n",
            "24                        0.522222                               0.181818   \n",
            "25                        0.755556                               0.890909   \n",
            "26                        0.700000                               0.281818   \n",
            "27                        0.200000                               0.845455   \n",
            "28                        0.888889                               0.345455   \n",
            "29                        0.866667                               0.100000   \n",
            "\n",
            "    Stress Level (scale: 1-10)  BMI Category  Heart Rate (bpm)  Daily Steps  \\\n",
            "0                     0.666667             1              0.82     0.361746   \n",
            "1                     0.444444             1              0.62     0.932704   \n",
            "2                     0.333333             3              0.62     0.044156   \n",
            "3                     1.000000             1              0.10     0.269353   \n",
            "4                     0.333333             2              0.94     0.719803   \n",
            "5                     0.333333             0              0.74     0.414622   \n",
            "6                     0.555556             1              0.32     0.760885   \n",
            "7                     0.777778             1              0.18     0.933430   \n",
            "8                     0.777778             3              0.98     0.800961   \n",
            "9                     0.444444             2              0.52     0.596781   \n",
            "10                    0.555556             1              0.98     0.238500   \n",
            "11                    0.333333             3              0.68     0.679615   \n",
            "12                    0.888889             1              0.40     0.747471   \n",
            "13                    0.777778             3              0.48     0.835783   \n",
            "14                    1.000000             3              0.54     0.233861   \n",
            "15                    1.000000             2              0.92     0.677044   \n",
            "16                    0.000000             1              0.28     0.898385   \n",
            "17                    0.111111             2              0.06     0.047789   \n",
            "18                    0.888889             3              0.56     0.441004   \n",
            "19                    0.777778             0              0.16     0.879157   \n",
            "20                    0.222222             1              0.52     0.065005   \n",
            "21                    0.777778             0              0.50     0.590241   \n",
            "22                    0.000000             1              0.36     0.555531   \n",
            "23                    1.000000             2              0.54     0.271980   \n",
            "24                    0.333333             2              0.32     0.795260   \n",
            "25                    0.222222             2              0.84     0.911632   \n",
            "26                    0.555556             2              0.80     0.007602   \n",
            "27                    0.666667             2              0.82     0.920966   \n",
            "28                    0.333333             0              0.98     0.884914   \n",
            "29                    0.666667             2              0.38     0.205746   \n",
            "\n",
            "    Sleep Disorder  Systolic BP  Diastolic BP  \n",
            "0                2     0.416667      0.277778  \n",
            "1                2     0.611111      0.722222  \n",
            "2                2     0.361111      0.277778  \n",
            "3                2     0.416667      0.333333  \n",
            "4                0     0.666667      0.500000  \n",
            "5                2     0.388889      0.000000  \n",
            "6                2     0.333333      0.277778  \n",
            "7                2     0.694444      0.750000  \n",
            "8                1     0.083333      0.083333  \n",
            "9                2     0.444444      0.666667  \n",
            "10               2     0.805556      0.888889  \n",
            "11               2     0.111111      0.166667  \n",
            "12               1     0.777778      0.833333  \n",
            "13               2     0.388889      0.361111  \n",
            "14               2     0.472222      0.583333  \n",
            "15               2     0.694444      0.527778  \n",
            "16               2     0.527778      0.500000  \n",
            "17               2     0.138889      0.138889  \n",
            "18               1     0.111111      0.138889  \n",
            "19               0     0.111111      0.083333  \n",
            "20               2     0.555556      0.416667  \n",
            "21               0     0.361111      0.472222  \n",
            "22               2     0.638889      0.722222  \n",
            "23               0     0.472222      0.500000  \n",
            "24               0     0.305556      0.472222  \n",
            "25               2     0.583333      0.694444  \n",
            "26               0     0.250000      0.305556  \n",
            "27               2     0.861111      0.722222  \n",
            "28               2     0.416667      0.361111  \n",
            "29               2     0.111111      0.083333  \n"
          ]
        }
      ]
    },
    {
      "cell_type": "code",
      "source": [
        "X = df.drop(columns=['Sleep Disorder'])  # Features\n",
        "y = df['Sleep Disorder']  # Target"
      ],
      "metadata": {
        "id": "fGxCvhamNzUM"
      },
      "execution_count": 56,
      "outputs": []
    },
    {
      "cell_type": "code",
      "source": [
        "print(\"\\nClass Distribution before Balancing:\", Counter(y))"
      ],
      "metadata": {
        "colab": {
          "base_uri": "https://localhost:8080/"
        },
        "id": "zFGh0R2gbuJs",
        "outputId": "220b9f67-ca76-4afd-a2fd-db9e1d77de59"
      },
      "execution_count": 57,
      "outputs": [
        {
          "output_type": "stream",
          "name": "stdout",
          "text": [
            "\n",
            "Class Distribution before Balancing: Counter({2: 289, 0: 79, 1: 30})\n"
          ]
        }
      ]
    },
    {
      "cell_type": "code",
      "source": [
        "smote = SMOTE(random_state=42)\n",
        "X_resampled, y_resampled = smote.fit_resample(X, y)"
      ],
      "metadata": {
        "id": "cayYaANHbu6f"
      },
      "execution_count": 58,
      "outputs": []
    },
    {
      "cell_type": "code",
      "source": [
        "print(\"\\nClass Distribution after Balancing:\", Counter(y_resampled))"
      ],
      "metadata": {
        "colab": {
          "base_uri": "https://localhost:8080/"
        },
        "id": "Gtq6rsJ3byqx",
        "outputId": "561c0e72-9cb3-49a5-9a2b-39a3e798c6c8"
      },
      "execution_count": 59,
      "outputs": [
        {
          "output_type": "stream",
          "name": "stdout",
          "text": [
            "\n",
            "Class Distribution after Balancing: Counter({2: 289, 0: 289, 1: 289})\n"
          ]
        }
      ]
    },
    {
      "cell_type": "code",
      "source": [
        "print(\"\\nClass Distribution after Balancing:\", Counter(y_resampled))\n",
        "\n",
        "X_train, X_test, y_train, y_test = train_test_split(X_resampled, y_resampled, test_size=0.2, random_state=42, stratify=y_resampled)\n",
        "print(\"\\nTraining Data Shape:\", X_train.shape)\n",
        "print(\"Testing Data Shape:\", X_test.shape)"
      ],
      "metadata": {
        "colab": {
          "base_uri": "https://localhost:8080/"
        },
        "id": "KKN1KA23cAVD",
        "outputId": "3ef11513-9396-4f77-ca7d-b46c1bf385e8"
      },
      "execution_count": 60,
      "outputs": [
        {
          "output_type": "stream",
          "name": "stdout",
          "text": [
            "\n",
            "Class Distribution after Balancing: Counter({2: 289, 0: 289, 1: 289})\n",
            "\n",
            "Training Data Shape: (693, 12)\n",
            "Testing Data Shape: (174, 12)\n"
          ]
        }
      ]
    },
    {
      "cell_type": "code",
      "source": [
        "df.to_csv('sleep_health_lifestyle_preprocessed.csv', index=False)\n",
        "print(\"\\nPreprocessed dataset saved.\")"
      ],
      "metadata": {
        "colab": {
          "base_uri": "https://localhost:8080/"
        },
        "id": "ofD-IwytOFzq",
        "outputId": "d1a36d92-cff4-4626-bb5c-d772fa93ee8d"
      },
      "execution_count": 61,
      "outputs": [
        {
          "output_type": "stream",
          "name": "stdout",
          "text": [
            "\n",
            "Preprocessed dataset saved.\n"
          ]
        }
      ]
    },
    {
      "cell_type": "code",
      "source": [
        "print(\"\\nApplying Classification Techniques\")\n",
        "results = {}"
      ],
      "metadata": {
        "colab": {
          "base_uri": "https://localhost:8080/"
        },
        "id": "xK6mYqI0YpfT",
        "outputId": "93747b3a-46ae-4e67-aa10-80b39038451e"
      },
      "execution_count": 62,
      "outputs": [
        {
          "output_type": "stream",
          "name": "stdout",
          "text": [
            "\n",
            "Applying Classification Techniques\n"
          ]
        }
      ]
    },
    {
      "cell_type": "code",
      "source": [
        "#Decision Tree\n",
        "dt_model = DecisionTreeClassifier()\n",
        "dt_model.fit(X_train, y_train)\n",
        "dt_pred = dt_model.predict(X_test)\n",
        "print(\"\\nDecision Tree Classifier:\")\n",
        "print(\"Accuracy:\", accuracy_score(y_test, dt_pred))\n",
        "print(\"Confusion Matrix:\\n\", confusion_matrix(y_test, dt_pred))\n",
        "print(\"Classification Report:\\n\", classification_report(y_test, dt_pred, zero_division=1))"
      ],
      "metadata": {
        "colab": {
          "base_uri": "https://localhost:8080/"
        },
        "id": "OMSz6CZaY2Ux",
        "outputId": "15610283-f778-453e-eea5-9bccec067a8a"
      },
      "execution_count": 63,
      "outputs": [
        {
          "output_type": "stream",
          "name": "stdout",
          "text": [
            "\n",
            "Decision Tree Classifier:\n",
            "Accuracy: 0.632183908045977\n",
            "Confusion Matrix:\n",
            " [[33  9 16]\n",
            " [ 6 46  6]\n",
            " [19  8 31]]\n",
            "Classification Report:\n",
            "               precision    recall  f1-score   support\n",
            "\n",
            "           0       0.57      0.57      0.57        58\n",
            "           1       0.73      0.79      0.76        58\n",
            "           2       0.58      0.53      0.56        58\n",
            "\n",
            "    accuracy                           0.63       174\n",
            "   macro avg       0.63      0.63      0.63       174\n",
            "weighted avg       0.63      0.63      0.63       174\n",
            "\n"
          ]
        }
      ]
    },
    {
      "cell_type": "code",
      "source": [
        "#Logistic Regression\n",
        "lr_model = LogisticRegression()\n",
        "lr_model.fit(X_train, y_train)\n",
        "lr_pred = lr_model.predict(X_test)\n",
        "print(\"\\nLogistic Regression:\")\n",
        "print(\"Accuracy:\", accuracy_score(y_test, lr_pred))\n",
        "print(\"Confusion Matrix:\\n\", confusion_matrix(y_test, lr_pred))\n",
        "print(\"Classification Report:\\n\", classification_report(y_test, lr_pred))"
      ],
      "metadata": {
        "colab": {
          "base_uri": "https://localhost:8080/"
        },
        "id": "3swZKbqQYqem",
        "outputId": "2a7d4d98-2832-4cc0-c6b9-fa436a9899bd"
      },
      "execution_count": 64,
      "outputs": [
        {
          "output_type": "stream",
          "name": "stdout",
          "text": [
            "\n",
            "Logistic Regression:\n",
            "Accuracy: 0.5344827586206896\n",
            "Confusion Matrix:\n",
            " [[18 25 15]\n",
            " [ 8 42  8]\n",
            " [16  9 33]]\n",
            "Classification Report:\n",
            "               precision    recall  f1-score   support\n",
            "\n",
            "           0       0.43      0.31      0.36        58\n",
            "           1       0.55      0.72      0.63        58\n",
            "           2       0.59      0.57      0.58        58\n",
            "\n",
            "    accuracy                           0.53       174\n",
            "   macro avg       0.52      0.53      0.52       174\n",
            "weighted avg       0.52      0.53      0.52       174\n",
            "\n"
          ]
        }
      ]
    },
    {
      "cell_type": "code",
      "source": [
        "# Support Vector Machine (SVM)\n",
        "svm_model = SVC(kernel='linear')\n",
        "svm_model.fit(X_train, y_train)\n",
        "svm_pred = svm_model.predict(X_test)\n",
        "print(\"\\nSupport Vector Machine (SVM):\")\n",
        "print(\"Accuracy:\", accuracy_score(y_test, svm_pred))\n",
        "print(\"Confusion Matrix:\\n\", confusion_matrix(y_test, svm_pred))\n",
        "print(\"Classification Report:\\n\", classification_report(y_test, svm_pred))\n"
      ],
      "metadata": {
        "colab": {
          "base_uri": "https://localhost:8080/"
        },
        "id": "guPSTQ-YZ06z",
        "outputId": "2a52125c-d0be-4e2e-bdad-9a64ce86c188"
      },
      "execution_count": 65,
      "outputs": [
        {
          "output_type": "stream",
          "name": "stdout",
          "text": [
            "\n",
            "Support Vector Machine (SVM):\n",
            "Accuracy: 0.5747126436781609\n",
            "Confusion Matrix:\n",
            " [[24 25  9]\n",
            " [ 8 46  4]\n",
            " [17 11 30]]\n",
            "Classification Report:\n",
            "               precision    recall  f1-score   support\n",
            "\n",
            "           0       0.49      0.41      0.45        58\n",
            "           1       0.56      0.79      0.66        58\n",
            "           2       0.70      0.52      0.59        58\n",
            "\n",
            "    accuracy                           0.57       174\n",
            "   macro avg       0.58      0.57      0.57       174\n",
            "weighted avg       0.58      0.57      0.57       174\n",
            "\n"
          ]
        }
      ]
    },
    {
      "cell_type": "code",
      "source": [
        "# K-Nearest Neighbors (KNN)\n",
        "knn_model = KNeighborsClassifier()\n",
        "knn_model.fit(X_train, y_train)\n",
        "knn_pred = knn_model.predict(X_test)\n",
        "print(\"\\nK-Nearest Neighbors (KNN):\")\n",
        "print(\"Accuracy:\", accuracy_score(y_test, knn_pred))\n",
        "print(\"Confusion Matrix:\\n\", confusion_matrix(y_test, knn_pred))\n",
        "print(\"Classification Report:\\n\", classification_report(y_test, knn_pred))"
      ],
      "metadata": {
        "colab": {
          "base_uri": "https://localhost:8080/"
        },
        "id": "fAfqMT0wZ3y8",
        "outputId": "d239d7dd-0978-4cef-92dc-89548a9d3c6a"
      },
      "execution_count": 66,
      "outputs": [
        {
          "output_type": "stream",
          "name": "stdout",
          "text": [
            "\n",
            "K-Nearest Neighbors (KNN):\n",
            "Accuracy: 0.632183908045977\n",
            "Confusion Matrix:\n",
            " [[42  8  8]\n",
            " [ 6 52  0]\n",
            " [25 17 16]]\n",
            "Classification Report:\n",
            "               precision    recall  f1-score   support\n",
            "\n",
            "           0       0.58      0.72      0.64        58\n",
            "           1       0.68      0.90      0.77        58\n",
            "           2       0.67      0.28      0.39        58\n",
            "\n",
            "    accuracy                           0.63       174\n",
            "   macro avg       0.64      0.63      0.60       174\n",
            "weighted avg       0.64      0.63      0.60       174\n",
            "\n"
          ]
        }
      ]
    },
    {
      "cell_type": "code",
      "source": [
        "# Naive Bayes Classifier\n",
        "nb_model = GaussianNB()\n",
        "nb_model.fit(X_train, y_train)\n",
        "nb_pred = nb_model.predict(X_test)\n",
        "print(\"\\nNaive Bayes Classifier:\")\n",
        "print(\"Accuracy:\", accuracy_score(y_test, nb_pred))\n",
        "print(\"Confusion Matrix:\\n\", confusion_matrix(y_test, nb_pred))\n",
        "print(\"Classification Report:\\n\", classification_report(y_test, nb_pred))"
      ],
      "metadata": {
        "colab": {
          "base_uri": "https://localhost:8080/"
        },
        "id": "jofLO72mZ67l",
        "outputId": "8675d0a2-dd9a-4f86-cdd1-3489b48dd235"
      },
      "execution_count": 84,
      "outputs": [
        {
          "output_type": "stream",
          "name": "stdout",
          "text": [
            "\n",
            "Naive Bayes Classifier:\n",
            "Accuracy: 0.5402298850574713\n",
            "Confusion Matrix:\n",
            " [[18 23 17]\n",
            " [10 42  6]\n",
            " [16  8 34]]\n",
            "Classification Report:\n",
            "               precision    recall  f1-score   support\n",
            "\n",
            "           0       0.41      0.31      0.35        58\n",
            "           1       0.58      0.72      0.64        58\n",
            "           2       0.60      0.59      0.59        58\n",
            "\n",
            "    accuracy                           0.54       174\n",
            "   macro avg       0.53      0.54      0.53       174\n",
            "weighted avg       0.53      0.54      0.53       174\n",
            "\n"
          ]
        }
      ]
    },
    {
      "cell_type": "code",
      "source": [
        "print(\"\\nFinal Dataset Shape:\", df.shape)\n",
        "print(\"Training Set Shape:\", X_train.shape)\n",
        "print(\"Testing Set Shape:\", X_test.shape)"
      ],
      "metadata": {
        "colab": {
          "base_uri": "https://localhost:8080/"
        },
        "id": "OZIH3DI6OHva",
        "outputId": "80cf5309-4f64-471e-be14-c3af9deec528"
      },
      "execution_count": 83,
      "outputs": [
        {
          "output_type": "stream",
          "name": "stdout",
          "text": [
            "\n",
            "Final Dataset Shape: (398, 13)\n",
            "Training Set Shape: (693, 12)\n",
            "Testing Set Shape: (174, 12)\n"
          ]
        }
      ]
    },
    {
      "cell_type": "code",
      "source": [
        "## Step 1: Visualizing the Raw Data\n",
        "print(\"\\nVisualizing Raw Data...\")\n",
        "plt.figure(figsize=(12, 6))\n",
        "sns.histplot(df['Sleep Duration (hours)'], bins=20, kde=True)\n",
        "plt.title(\"Distribution of Sleep Duration\")\n",
        "plt.show()\n",
        "\n",
        "plt.figure(figsize=(12, 6))\n",
        "sns.boxplot(x=df['Quality of Sleep (scale: 1-10)'])\n",
        "plt.title(\"Quality of Sleep Distribution\")\n",
        "plt.show()"
      ],
      "metadata": {
        "colab": {
          "base_uri": "https://localhost:8080/",
          "height": 1000
        },
        "id": "FP0Jt8NSR99h",
        "outputId": "104c7f52-8b90-4192-9e8d-186577ef1a67"
      },
      "execution_count": 82,
      "outputs": [
        {
          "output_type": "stream",
          "name": "stdout",
          "text": [
            "\n",
            "Visualizing Raw Data...\n"
          ]
        },
        {
          "output_type": "display_data",
          "data": {
            "text/plain": [
              "<Figure size 1200x600 with 1 Axes>"
            ],
            "image/png": "[encoded data removed]"
          },
          "metadata": {}
        },
        {
          "output_type": "display_data",
          "data": {
            "text/plain": [
              "<Figure size 1200x600 with 1 Axes>"
            ],
            "image/png": "[encoded data removed]"
          },
          "metadata": {}
        }
      ]
    },
    {
      "cell_type": "code",
      "source": [
        "## Step 2: Feature Importance Analysis\n",
        "print(\"\\nAnalyzing Feature Importance...\")\n",
        "rf_model = RandomForestClassifier()\n",
        "rf_model.fit(X_train, y_train)\n",
        "feature_importances = rf_model.feature_importances_\n",
        "plt.figure(figsize=(12, 6))\n",
        "sns.barplot(x=X_train.columns, y=feature_importances)\n",
        "plt.xticks(rotation=90)\n",
        "plt.title(\"Feature Importance Analysis\")\n",
        "plt.show()"
      ],
      "metadata": {
        "colab": {
          "base_uri": "https://localhost:8080/",
          "height": 777
        },
        "id": "a3B5cri2Tcqg",
        "outputId": "569331a4-870f-498c-d4b8-3b7ca6b7cf56"
      },
      "execution_count": 81,
      "outputs": [
        {
          "output_type": "stream",
          "name": "stdout",
          "text": [
            "\n",
            "Analyzing Feature Importance...\n"
          ]
        },
        {
          "output_type": "display_data",
          "data": {
            "text/plain": [
              "<Figure size 1200x600 with 1 Axes>"
            ],
            "image/png": "[encoded data removed]"
          },
          "metadata": {}
        }
      ]
    },
    {
      "cell_type": "code",
      "source": [
        "## Step 3: Evaluating Model Performance Visually\n",
        "print(\"\\nEvaluating Model Performance...\")\n",
        "results[\"Decision Tree\"] = {\"predictions\": dt_pred}\n",
        "plt.figure(figsize=(8, 6))\n",
        "plt.scatter(y_test, results[\"Decision Tree\"][\"predictions\"], alpha=0.5)\n",
        "plt.xlabel(\"Actual Labels\")\n",
        "plt.ylabel(\"Predicted Labels\")\n",
        "plt.title(\"Actual vs Predicted (Decision Tree)\")\n",
        "plt.show()"
      ],
      "metadata": {
        "colab": {
          "base_uri": "https://localhost:8080/",
          "height": 599
        },
        "id": "PhM9mQSJTg9x",
        "outputId": "0287cae5-3f2e-43ac-ef93-674183b8d128"
      },
      "execution_count": 89,
      "outputs": [
        {
          "output_type": "stream",
          "name": "stdout",
          "text": [
            "\n",
            "Evaluating Model Performance...\n"
          ]
        },
        {
          "output_type": "display_data",
          "data": {
            "text/plain": [
              "<Figure size 800x600 with 1 Axes>"
            ],
            "image/png": "[encoded data removed]"
          },
          "metadata": {}
        }
      ]
    },
    {
      "cell_type": "code",
      "source": [
        "## Step 4: Residual Analysis\n",
        "residuals = y_test - results[\"Decision Tree\"][\"predictions\"]\n",
        "plt.figure(figsize=(8, 6))\n",
        "sns.histplot(residuals, bins=20, kde=True)\n",
        "plt.title(\"Residual Distribution\")\n",
        "plt.show()"
      ],
      "metadata": {
        "colab": {
          "base_uri": "https://localhost:8080/",
          "height": 564
        },
        "id": "q7gWSFsgTof7",
        "outputId": "148e3270-d4a4-445d-9a37-76ad151ad821"
      },
      "execution_count": 90,
      "outputs": [
        {
          "output_type": "display_data",
          "data": {
            "text/plain": [
              "<Figure size 800x600 with 1 Axes>"
            ],
            "image/png": "[encoded data removed]"
          },
          "metadata": {}
        }
      ]
    },
    {
      "cell_type": "code",
      "source": [
        "## Step 5: Visualizing Classification Performance\n",
        "print(\"\\nVisualizing Classification Performance...\")\n",
        "for name, result in results.items():\n",
        "    if \"predictions\" in result:\n",
        "        cm = confusion_matrix(y_test, result[\"predictions\"])\n",
        "        plt.figure(figsize=(6, 4))\n",
        "        sns.heatmap(cm, annot=True, fmt='d', cmap='Blues')\n",
        "        plt.title(f\"Confusion Matrix - {name}\")\n",
        "        plt.xlabel(\"Predicted\")\n",
        "        plt.ylabel(\"Actual\")\n",
        "        plt.show()"
      ],
      "metadata": {
        "colab": {
          "base_uri": "https://localhost:8080/",
          "height": 445
        },
        "id": "sLsWXMGfTsAa",
        "outputId": "bff8034f-6b8d-473f-b02b-f08e4aad6fa4"
      },
      "execution_count": 91,
      "outputs": [
        {
          "output_type": "stream",
          "name": "stdout",
          "text": [
            "\n",
            "Visualizing Classification Performance...\n"
          ]
        },
        {
          "output_type": "display_data",
          "data": {
            "text/plain": [
              "<Figure size 600x400 with 2 Axes>"
            ],
            "image/png": "[encoded data removed]"
          },
          "metadata": {}
        }
      ]
    }
  ]
}